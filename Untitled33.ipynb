{
  "nbformat": 4,
  "nbformat_minor": 0,
  "metadata": {
    "colab": {
      "provenance": [],
      "authorship_tag": "ABX9TyOeHzTPI343Se+kfDu+MqPh",
      "include_colab_link": true
    },
    "kernelspec": {
      "name": "python3",
      "display_name": "Python 3"
    },
    "language_info": {
      "name": "python"
    }
  },
  "cells": [
    {
      "cell_type": "markdown",
      "metadata": {
        "id": "view-in-github",
        "colab_type": "text"
      },
      "source": [
        "<a href=\"https://colab.research.google.com/github/willaure/Normalizing-Data/blob/main/Untitled33.ipynb\" target=\"_parent\"><img src=\"https://colab.research.google.com/assets/colab-badge.svg\" alt=\"Open In Colab\"/></a>"
      ]
    },
    {
      "cell_type": "code",
      "execution_count": null,
      "metadata": {
        "id": "hWDqpP0r0xVa"
      },
      "outputs": [],
      "source": [
        "# Data Normalization Techniques"
      ]
    },
    {
      "cell_type": "code",
      "source": [
        "!pip install pandas"
      ],
      "metadata": {
        "colab": {
          "base_uri": "https://localhost:8080/"
        },
        "id": "R8R3lmbC192y",
        "outputId": "b3395f24-e497-482c-d646-34d7bb4612c0"
      },
      "execution_count": 1,
      "outputs": [
        {
          "output_type": "stream",
          "name": "stdout",
          "text": [
            "Requirement already satisfied: pandas in /usr/local/lib/python3.11/dist-packages (2.2.2)\n",
            "Requirement already satisfied: numpy>=1.23.2 in /usr/local/lib/python3.11/dist-packages (from pandas) (2.0.2)\n",
            "Requirement already satisfied: python-dateutil>=2.8.2 in /usr/local/lib/python3.11/dist-packages (from pandas) (2.8.2)\n",
            "Requirement already satisfied: pytz>=2020.1 in /usr/local/lib/python3.11/dist-packages (from pandas) (2025.2)\n",
            "Requirement already satisfied: tzdata>=2022.7 in /usr/local/lib/python3.11/dist-packages (from pandas) (2025.2)\n",
            "Requirement already satisfied: six>=1.5 in /usr/local/lib/python3.11/dist-packages (from python-dateutil>=2.8.2->pandas) (1.17.0)\n"
          ]
        }
      ]
    },
    {
      "cell_type": "code",
      "source": [
        "!pip install matplotlib"
      ],
      "metadata": {
        "colab": {
          "base_uri": "https://localhost:8080/"
        },
        "id": "hFUYZboY1-wX",
        "outputId": "865133fa-798f-4c43-9879-d94d516a0032"
      },
      "execution_count": 2,
      "outputs": [
        {
          "output_type": "stream",
          "name": "stdout",
          "text": [
            "Requirement already satisfied: matplotlib in /usr/local/lib/python3.11/dist-packages (3.10.0)\n",
            "Requirement already satisfied: contourpy>=1.0.1 in /usr/local/lib/python3.11/dist-packages (from matplotlib) (1.3.2)\n",
            "Requirement already satisfied: cycler>=0.10 in /usr/local/lib/python3.11/dist-packages (from matplotlib) (0.12.1)\n",
            "Requirement already satisfied: fonttools>=4.22.0 in /usr/local/lib/python3.11/dist-packages (from matplotlib) (4.57.0)\n",
            "Requirement already satisfied: kiwisolver>=1.3.1 in /usr/local/lib/python3.11/dist-packages (from matplotlib) (1.4.8)\n",
            "Requirement already satisfied: numpy>=1.23 in /usr/local/lib/python3.11/dist-packages (from matplotlib) (2.0.2)\n",
            "Requirement already satisfied: packaging>=20.0 in /usr/local/lib/python3.11/dist-packages (from matplotlib) (24.2)\n",
            "Requirement already satisfied: pillow>=8 in /usr/local/lib/python3.11/dist-packages (from matplotlib) (11.1.0)\n",
            "Requirement already satisfied: pyparsing>=2.3.1 in /usr/local/lib/python3.11/dist-packages (from matplotlib) (3.2.3)\n",
            "Requirement already satisfied: python-dateutil>=2.7 in /usr/local/lib/python3.11/dist-packages (from matplotlib) (2.8.2)\n",
            "Requirement already satisfied: six>=1.5 in /usr/local/lib/python3.11/dist-packages (from python-dateutil>=2.7->matplotlib) (1.17.0)\n"
          ]
        }
      ]
    },
    {
      "cell_type": "code",
      "source": [
        "import pandas as pd\n",
        "import matplotlib.pyplot as plt"
      ],
      "metadata": {
        "id": "qnHc-XLH2Rk8"
      },
      "execution_count": 3,
      "outputs": []
    },
    {
      "cell_type": "code",
      "source": [
        "# Step 2: Load the Dataset into a DataFrame"
      ],
      "metadata": {
        "id": "350vQI2l2Z8G"
      },
      "execution_count": null,
      "outputs": []
    },
    {
      "cell_type": "code",
      "source": [
        "# The functions below will download the dataset into your browser"
      ],
      "metadata": {
        "id": "JIYtOKh82jQu"
      },
      "execution_count": null,
      "outputs": []
    },
    {
      "cell_type": "code",
      "source": [
        "file_path = \"https://cf-courses-data.s3.us.cloud-object-storage.appdomain.cloud/n01PQ9pSmiRX6520flujwQ/survey-data.csv\"\n",
        "\n",
        "df = pd.read_csv(file_path)\n",
        "\n",
        "# Display the first few rows to check if data is loaded correctly\n",
        "print(df.head())"
      ],
      "metadata": {
        "colab": {
          "base_uri": "https://localhost:8080/"
        },
        "id": "-HS7tO-J2nZS",
        "outputId": "adf5b6a8-9cd5-4f6d-8023-63917f39aae0"
      },
      "execution_count": 4,
      "outputs": [
        {
          "output_type": "stream",
          "name": "stdout",
          "text": [
            "   ResponseId                      MainBranch                 Age  \\\n",
            "0           1  I am a developer by profession  Under 18 years old   \n",
            "1           2  I am a developer by profession     35-44 years old   \n",
            "2           3  I am a developer by profession     45-54 years old   \n",
            "3           4           I am learning to code     18-24 years old   \n",
            "4           5  I am a developer by profession     18-24 years old   \n",
            "\n",
            "            Employment RemoteWork   Check  \\\n",
            "0  Employed, full-time     Remote  Apples   \n",
            "1  Employed, full-time     Remote  Apples   \n",
            "2  Employed, full-time     Remote  Apples   \n",
            "3   Student, full-time        NaN  Apples   \n",
            "4   Student, full-time        NaN  Apples   \n",
            "\n",
            "                                    CodingActivities  \\\n",
            "0                                              Hobby   \n",
            "1  Hobby;Contribute to open-source projects;Other...   \n",
            "2  Hobby;Contribute to open-source projects;Other...   \n",
            "3                                                NaN   \n",
            "4                                                NaN   \n",
            "\n",
            "                                             EdLevel  \\\n",
            "0                          Primary/elementary school   \n",
            "1       Bachelor’s degree (B.A., B.S., B.Eng., etc.)   \n",
            "2    Master’s degree (M.A., M.S., M.Eng., MBA, etc.)   \n",
            "3  Some college/university study without earning ...   \n",
            "4  Secondary school (e.g. American high school, G...   \n",
            "\n",
            "                                           LearnCode  \\\n",
            "0                             Books / Physical media   \n",
            "1  Books / Physical media;Colleague;On the job tr...   \n",
            "2  Books / Physical media;Colleague;On the job tr...   \n",
            "3  Other online resources (e.g., videos, blogs, f...   \n",
            "4  Other online resources (e.g., videos, blogs, f...   \n",
            "\n",
            "                                     LearnCodeOnline  ... JobSatPoints_6  \\\n",
            "0                                                NaN  ...            NaN   \n",
            "1  Technical documentation;Blogs;Books;Written Tu...  ...            0.0   \n",
            "2  Technical documentation;Blogs;Books;Written Tu...  ...            NaN   \n",
            "3  Stack Overflow;How-to videos;Interactive tutorial  ...            NaN   \n",
            "4  Technical documentation;Blogs;Written Tutorial...  ...            NaN   \n",
            "\n",
            "  JobSatPoints_7 JobSatPoints_8 JobSatPoints_9 JobSatPoints_10  \\\n",
            "0            NaN            NaN            NaN             NaN   \n",
            "1            0.0            0.0            0.0             0.0   \n",
            "2            NaN            NaN            NaN             NaN   \n",
            "3            NaN            NaN            NaN             NaN   \n",
            "4            NaN            NaN            NaN             NaN   \n",
            "\n",
            "  JobSatPoints_11           SurveyLength SurveyEase ConvertedCompYearly JobSat  \n",
            "0             NaN                    NaN        NaN                 NaN    NaN  \n",
            "1             0.0                    NaN        NaN                 NaN    NaN  \n",
            "2             NaN  Appropriate in length       Easy                 NaN    NaN  \n",
            "3             NaN               Too long       Easy                 NaN    NaN  \n",
            "4             NaN              Too short       Easy                 NaN    NaN  \n",
            "\n",
            "[5 rows x 114 columns]\n"
          ]
        }
      ]
    },
    {
      "cell_type": "code",
      "source": [
        "# Section 1: Handling Duplicates"
      ],
      "metadata": {
        "id": "Fdr5B4h03BIN"
      },
      "execution_count": null,
      "outputs": []
    },
    {
      "cell_type": "code",
      "source": [
        "# Identify and remove duplicate rows."
      ],
      "metadata": {
        "id": "0t9f8EI-3YAR"
      },
      "execution_count": null,
      "outputs": []
    },
    {
      "cell_type": "code",
      "source": [
        "import pandas as pd\n",
        "\n",
        "# Load the dataset\n",
        "file_path = \"https://cf-courses-data.s3.us.cloud-object-storage.appdomain.cloud/n01PQ9pSmiRX6520flujwQ/survey-data.csv\"\n",
        "df = pd.read_csv(file_path)\n",
        "\n",
        "# Display the first few rows to check if data is loaded correctly\n",
        "print(\"Original dataset:\")\n",
        "print(df.head())\n",
        "\n",
        "# Identify duplicate rows\n",
        "duplicate_rows = df[df.duplicated()]\n",
        "print(\"\\nNumber of duplicate rows:\", len(duplicate_rows))\n",
        "print(\"\\nDuplicate rows:\")\n",
        "print(duplicate_rows)\n",
        "\n",
        "# Remove duplicate rows\n",
        "df_cleaned = df.drop_duplicates()\n",
        "\n",
        "# Display information after removal\n",
        "print(\"\\nAfter removing duplicates:\")\n",
        "print(\"Number of rows in original dataset:\", len(df))\n",
        "print(\"Number of rows after removing duplicates:\", len(df_cleaned))\n",
        "\n",
        "# If you want to keep the cleaned dataset, you can assign it back to df\n",
        "df = df_cleaned.copy()\n",
        "\n",
        "# Display the first few rows of the cleaned dataset\n",
        "print(\"\\nCleaned dataset:\")\n",
        "print(df.head())"
      ],
      "metadata": {
        "colab": {
          "base_uri": "https://localhost:8080/"
        },
        "id": "zGu6uuR63a2z",
        "outputId": "7c9af212-9848-451c-d56d-6fda22cd6048"
      },
      "execution_count": 5,
      "outputs": [
        {
          "output_type": "stream",
          "name": "stdout",
          "text": [
            "Original dataset:\n",
            "   ResponseId                      MainBranch                 Age  \\\n",
            "0           1  I am a developer by profession  Under 18 years old   \n",
            "1           2  I am a developer by profession     35-44 years old   \n",
            "2           3  I am a developer by profession     45-54 years old   \n",
            "3           4           I am learning to code     18-24 years old   \n",
            "4           5  I am a developer by profession     18-24 years old   \n",
            "\n",
            "            Employment RemoteWork   Check  \\\n",
            "0  Employed, full-time     Remote  Apples   \n",
            "1  Employed, full-time     Remote  Apples   \n",
            "2  Employed, full-time     Remote  Apples   \n",
            "3   Student, full-time        NaN  Apples   \n",
            "4   Student, full-time        NaN  Apples   \n",
            "\n",
            "                                    CodingActivities  \\\n",
            "0                                              Hobby   \n",
            "1  Hobby;Contribute to open-source projects;Other...   \n",
            "2  Hobby;Contribute to open-source projects;Other...   \n",
            "3                                                NaN   \n",
            "4                                                NaN   \n",
            "\n",
            "                                             EdLevel  \\\n",
            "0                          Primary/elementary school   \n",
            "1       Bachelor’s degree (B.A., B.S., B.Eng., etc.)   \n",
            "2    Master’s degree (M.A., M.S., M.Eng., MBA, etc.)   \n",
            "3  Some college/university study without earning ...   \n",
            "4  Secondary school (e.g. American high school, G...   \n",
            "\n",
            "                                           LearnCode  \\\n",
            "0                             Books / Physical media   \n",
            "1  Books / Physical media;Colleague;On the job tr...   \n",
            "2  Books / Physical media;Colleague;On the job tr...   \n",
            "3  Other online resources (e.g., videos, blogs, f...   \n",
            "4  Other online resources (e.g., videos, blogs, f...   \n",
            "\n",
            "                                     LearnCodeOnline  ... JobSatPoints_6  \\\n",
            "0                                                NaN  ...            NaN   \n",
            "1  Technical documentation;Blogs;Books;Written Tu...  ...            0.0   \n",
            "2  Technical documentation;Blogs;Books;Written Tu...  ...            NaN   \n",
            "3  Stack Overflow;How-to videos;Interactive tutorial  ...            NaN   \n",
            "4  Technical documentation;Blogs;Written Tutorial...  ...            NaN   \n",
            "\n",
            "  JobSatPoints_7 JobSatPoints_8 JobSatPoints_9 JobSatPoints_10  \\\n",
            "0            NaN            NaN            NaN             NaN   \n",
            "1            0.0            0.0            0.0             0.0   \n",
            "2            NaN            NaN            NaN             NaN   \n",
            "3            NaN            NaN            NaN             NaN   \n",
            "4            NaN            NaN            NaN             NaN   \n",
            "\n",
            "  JobSatPoints_11           SurveyLength SurveyEase ConvertedCompYearly JobSat  \n",
            "0             NaN                    NaN        NaN                 NaN    NaN  \n",
            "1             0.0                    NaN        NaN                 NaN    NaN  \n",
            "2             NaN  Appropriate in length       Easy                 NaN    NaN  \n",
            "3             NaN               Too long       Easy                 NaN    NaN  \n",
            "4             NaN              Too short       Easy                 NaN    NaN  \n",
            "\n",
            "[5 rows x 114 columns]\n",
            "\n",
            "Number of duplicate rows: 0\n",
            "\n",
            "Duplicate rows:\n",
            "Empty DataFrame\n",
            "Columns: [ResponseId, MainBranch, Age, Employment, RemoteWork, Check, CodingActivities, EdLevel, LearnCode, LearnCodeOnline, TechDoc, YearsCode, YearsCodePro, DevType, OrgSize, PurchaseInfluence, BuyNewTool, BuildvsBuy, TechEndorse, Country, Currency, CompTotal, LanguageHaveWorkedWith, LanguageWantToWorkWith, LanguageAdmired, DatabaseHaveWorkedWith, DatabaseWantToWorkWith, DatabaseAdmired, PlatformHaveWorkedWith, PlatformWantToWorkWith, PlatformAdmired, WebframeHaveWorkedWith, WebframeWantToWorkWith, WebframeAdmired, EmbeddedHaveWorkedWith, EmbeddedWantToWorkWith, EmbeddedAdmired, MiscTechHaveWorkedWith, MiscTechWantToWorkWith, MiscTechAdmired, ToolsTechHaveWorkedWith, ToolsTechWantToWorkWith, ToolsTechAdmired, NEWCollabToolsHaveWorkedWith, NEWCollabToolsWantToWorkWith, NEWCollabToolsAdmired, OpSysPersonal use, OpSysProfessional use, OfficeStackAsyncHaveWorkedWith, OfficeStackAsyncWantToWorkWith, OfficeStackAsyncAdmired, OfficeStackSyncHaveWorkedWith, OfficeStackSyncWantToWorkWith, OfficeStackSyncAdmired, AISearchDevHaveWorkedWith, AISearchDevWantToWorkWith, AISearchDevAdmired, NEWSOSites, SOVisitFreq, SOAccount, SOPartFreq, SOHow, SOComm, AISelect, AISent, AIBen, AIAcc, AIComplex, AIToolCurrently Using, AIToolInterested in Using, AIToolNot interested in Using, AINextMuch more integrated, AINextNo change, AINextMore integrated, AINextLess integrated, AINextMuch less integrated, AIThreat, AIEthics, AIChallenges, TBranch, ICorPM, WorkExp, Knowledge_1, Knowledge_2, Knowledge_3, Knowledge_4, Knowledge_5, Knowledge_6, Knowledge_7, Knowledge_8, Knowledge_9, Frequency_1, Frequency_2, Frequency_3, TimeSearching, TimeAnswering, Frustration, ProfessionalTech, ProfessionalCloud, ProfessionalQuestion, ...]\n",
            "Index: []\n",
            "\n",
            "[0 rows x 114 columns]\n",
            "\n",
            "After removing duplicates:\n",
            "Number of rows in original dataset: 65437\n",
            "Number of rows after removing duplicates: 65437\n",
            "\n",
            "Cleaned dataset:\n",
            "   ResponseId                      MainBranch                 Age  \\\n",
            "0           1  I am a developer by profession  Under 18 years old   \n",
            "1           2  I am a developer by profession     35-44 years old   \n",
            "2           3  I am a developer by profession     45-54 years old   \n",
            "3           4           I am learning to code     18-24 years old   \n",
            "4           5  I am a developer by profession     18-24 years old   \n",
            "\n",
            "            Employment RemoteWork   Check  \\\n",
            "0  Employed, full-time     Remote  Apples   \n",
            "1  Employed, full-time     Remote  Apples   \n",
            "2  Employed, full-time     Remote  Apples   \n",
            "3   Student, full-time        NaN  Apples   \n",
            "4   Student, full-time        NaN  Apples   \n",
            "\n",
            "                                    CodingActivities  \\\n",
            "0                                              Hobby   \n",
            "1  Hobby;Contribute to open-source projects;Other...   \n",
            "2  Hobby;Contribute to open-source projects;Other...   \n",
            "3                                                NaN   \n",
            "4                                                NaN   \n",
            "\n",
            "                                             EdLevel  \\\n",
            "0                          Primary/elementary school   \n",
            "1       Bachelor’s degree (B.A., B.S., B.Eng., etc.)   \n",
            "2    Master’s degree (M.A., M.S., M.Eng., MBA, etc.)   \n",
            "3  Some college/university study without earning ...   \n",
            "4  Secondary school (e.g. American high school, G...   \n",
            "\n",
            "                                           LearnCode  \\\n",
            "0                             Books / Physical media   \n",
            "1  Books / Physical media;Colleague;On the job tr...   \n",
            "2  Books / Physical media;Colleague;On the job tr...   \n",
            "3  Other online resources (e.g., videos, blogs, f...   \n",
            "4  Other online resources (e.g., videos, blogs, f...   \n",
            "\n",
            "                                     LearnCodeOnline  ... JobSatPoints_6  \\\n",
            "0                                                NaN  ...            NaN   \n",
            "1  Technical documentation;Blogs;Books;Written Tu...  ...            0.0   \n",
            "2  Technical documentation;Blogs;Books;Written Tu...  ...            NaN   \n",
            "3  Stack Overflow;How-to videos;Interactive tutorial  ...            NaN   \n",
            "4  Technical documentation;Blogs;Written Tutorial...  ...            NaN   \n",
            "\n",
            "  JobSatPoints_7 JobSatPoints_8 JobSatPoints_9 JobSatPoints_10  \\\n",
            "0            NaN            NaN            NaN             NaN   \n",
            "1            0.0            0.0            0.0             0.0   \n",
            "2            NaN            NaN            NaN             NaN   \n",
            "3            NaN            NaN            NaN             NaN   \n",
            "4            NaN            NaN            NaN             NaN   \n",
            "\n",
            "  JobSatPoints_11           SurveyLength SurveyEase ConvertedCompYearly JobSat  \n",
            "0             NaN                    NaN        NaN                 NaN    NaN  \n",
            "1             0.0                    NaN        NaN                 NaN    NaN  \n",
            "2             NaN  Appropriate in length       Easy                 NaN    NaN  \n",
            "3             NaN               Too long       Easy                 NaN    NaN  \n",
            "4             NaN              Too short       Easy                 NaN    NaN  \n",
            "\n",
            "[5 rows x 114 columns]\n"
          ]
        }
      ]
    },
    {
      "cell_type": "code",
      "source": [
        "# Section 2: Handling Missing Values"
      ],
      "metadata": {
        "id": "aTrXA2233v-E"
      },
      "execution_count": null,
      "outputs": []
    },
    {
      "cell_type": "code",
      "source": [
        "import pandas as pd\n",
        "\n",
        "# Load the dataset\n",
        "file_path = \"https://cf-courses-data.s3.us.cloud-object-storage.appdomain.cloud/n01PQ9pSmiRX6520flujwQ/survey-data.csv\"\n",
        "df = pd.read_csv(file_path)\n",
        "\n",
        "# Check for missing values in the CodingActivities column\n",
        "missing_values = df['CodingActivities'].isna().sum()\n",
        "\n",
        "# Alternatively, you can check for both NaN and None values\n",
        "missing_values_combined = df['CodingActivities'].isnull().sum()\n",
        "\n",
        "# Calculate the percentage of missing values\n",
        "total_rows = len(df)\n",
        "missing_percentage = (missing_values / total_rows) * 100\n",
        "\n",
        "# Display the results\n",
        "print(f\"Number of missing values in CodingActivities: {missing_values}\")\n",
        "print(f\"Percentage of missing values in CodingActivities: {missing_percentage:.2f}%\")\n",
        "\n",
        "# Optional: Show rows where CodingActivities is missing\n",
        "missing_rows = df[df['CodingActivities'].isna()]\n",
        "print(\"\\nRows with missing CodingActivities:\")\n",
        "print(missing_rows)"
      ],
      "metadata": {
        "colab": {
          "base_uri": "https://localhost:8080/"
        },
        "id": "hqPh0ehp4EWC",
        "outputId": "9b460a70-ee1b-4abc-ca04-2061a90edb73"
      },
      "execution_count": 6,
      "outputs": [
        {
          "output_type": "stream",
          "name": "stdout",
          "text": [
            "Number of missing values in CodingActivities: 10971\n",
            "Percentage of missing values in CodingActivities: 16.77%\n",
            "\n",
            "Rows with missing CodingActivities:\n",
            "       ResponseId                                         MainBranch  \\\n",
            "3               4                              I am learning to code   \n",
            "4               5                     I am a developer by profession   \n",
            "5               6                        I code primarily as a hobby   \n",
            "7               8                              I am learning to code   \n",
            "13             14  I used to be a developer by profession, but no...   \n",
            "...           ...                                                ...   \n",
            "65419       65420                     I am a developer by profession   \n",
            "65420       65421                              I am learning to code   \n",
            "65426       65427                              I am learning to code   \n",
            "65429       65430                              I am learning to code   \n",
            "65436       65437                        I code primarily as a hobby   \n",
            "\n",
            "                      Age                                         Employment  \\\n",
            "3         18-24 years old                                 Student, full-time   \n",
            "4         18-24 years old                                 Student, full-time   \n",
            "5      Under 18 years old                                 Student, full-time   \n",
            "7         18-24 years old  Student, full-time;Not employed, but looking f...   \n",
            "13        35-44 years old             Not employed, and not looking for work   \n",
            "...                   ...                                                ...   \n",
            "65419     25-34 years old                 Not employed, but looking for work   \n",
            "65420  Under 18 years old                                 Student, full-time   \n",
            "65426  Under 18 years old  Student, full-time;Not employed, but looking f...   \n",
            "65429     18-24 years old                                 Student, part-time   \n",
            "65436     18-24 years old                                 Student, full-time   \n",
            "\n",
            "      RemoteWork   Check CodingActivities  \\\n",
            "3            NaN  Apples              NaN   \n",
            "4            NaN  Apples              NaN   \n",
            "5            NaN  Apples              NaN   \n",
            "7            NaN  Apples              NaN   \n",
            "13           NaN  Apples              NaN   \n",
            "...          ...     ...              ...   \n",
            "65419        NaN  Apples              NaN   \n",
            "65420        NaN  Apples              NaN   \n",
            "65426        NaN  Apples              NaN   \n",
            "65429        NaN  Apples              NaN   \n",
            "65436        NaN  Apples              NaN   \n",
            "\n",
            "                                                 EdLevel  \\\n",
            "3      Some college/university study without earning ...   \n",
            "4      Secondary school (e.g. American high school, G...   \n",
            "5                              Primary/elementary school   \n",
            "7      Secondary school (e.g. American high school, G...   \n",
            "13          Bachelor’s degree (B.A., B.S., B.Eng., etc.)   \n",
            "...                                                  ...   \n",
            "65419                                                NaN   \n",
            "65420  Secondary school (e.g. American high school, G...   \n",
            "65426                                                NaN   \n",
            "65429                                                NaN   \n",
            "65436                                                NaN   \n",
            "\n",
            "                                               LearnCode  \\\n",
            "3      Other online resources (e.g., videos, blogs, f...   \n",
            "4      Other online resources (e.g., videos, blogs, f...   \n",
            "5      School (i.e., University, College, etc);Online...   \n",
            "7      Other online resources (e.g., videos, blogs, f...   \n",
            "13     Colleague;Other online resources (e.g., videos...   \n",
            "...                                                  ...   \n",
            "65419                                                NaN   \n",
            "65420  Other online resources (e.g., videos, blogs, f...   \n",
            "65426                                                NaN   \n",
            "65429                                                NaN   \n",
            "65436                                                NaN   \n",
            "\n",
            "                                         LearnCodeOnline  ... JobSatPoints_6  \\\n",
            "3      Stack Overflow;How-to videos;Interactive tutorial  ...            NaN   \n",
            "4      Technical documentation;Blogs;Written Tutorial...  ...            NaN   \n",
            "5                                                    NaN  ...            NaN   \n",
            "7      Technical documentation;Video-based Online Cou...  ...            NaN   \n",
            "13     Technical documentation;Blogs;Stack Overflow;I...  ...            NaN   \n",
            "...                                                  ...  ...            ...   \n",
            "65419                                                NaN  ...            NaN   \n",
            "65420  Coding sessions (live or recorded);Video-based...  ...            NaN   \n",
            "65426                                                NaN  ...            NaN   \n",
            "65429                                                NaN  ...            NaN   \n",
            "65436                                                NaN  ...            NaN   \n",
            "\n",
            "      JobSatPoints_7 JobSatPoints_8 JobSatPoints_9 JobSatPoints_10  \\\n",
            "3                NaN            NaN            NaN             NaN   \n",
            "4                NaN            NaN            NaN             NaN   \n",
            "5                NaN            NaN            NaN             NaN   \n",
            "7                NaN            NaN            NaN             NaN   \n",
            "13               NaN            NaN            NaN             NaN   \n",
            "...              ...            ...            ...             ...   \n",
            "65419            NaN            NaN            NaN             NaN   \n",
            "65420            NaN            NaN            NaN             NaN   \n",
            "65426            NaN            NaN            NaN             NaN   \n",
            "65429            NaN            NaN            NaN             NaN   \n",
            "65436            NaN            NaN            NaN             NaN   \n",
            "\n",
            "      JobSatPoints_11           SurveyLength                  SurveyEase  \\\n",
            "3                 NaN               Too long                        Easy   \n",
            "4                 NaN              Too short                        Easy   \n",
            "5                 NaN  Appropriate in length                        Easy   \n",
            "7                 NaN  Appropriate in length                   Difficult   \n",
            "13                NaN               Too long  Neither easy nor difficult   \n",
            "...               ...                    ...                         ...   \n",
            "65419             NaN                    NaN                         NaN   \n",
            "65420             NaN                    NaN                         NaN   \n",
            "65426             NaN                    NaN                         NaN   \n",
            "65429             NaN                    NaN                         NaN   \n",
            "65436             NaN                    NaN                         NaN   \n",
            "\n",
            "      ConvertedCompYearly JobSat  \n",
            "3                     NaN    NaN  \n",
            "4                     NaN    NaN  \n",
            "5                     NaN    NaN  \n",
            "7                     NaN    NaN  \n",
            "13                    NaN    NaN  \n",
            "...                   ...    ...  \n",
            "65419                 NaN    NaN  \n",
            "65420                 NaN    NaN  \n",
            "65426                 NaN    NaN  \n",
            "65429                 NaN    NaN  \n",
            "65436                 NaN    NaN  \n",
            "\n",
            "[10971 rows x 114 columns]\n"
          ]
        }
      ]
    },
    {
      "cell_type": "code",
      "source": [
        "# Impute missing values in CodingActivities with forward-fill.¶\n",
        "\n",
        "\n",
        "import pandas as pd\n",
        "\n",
        "# Load the dataset\n",
        "file_path = \"https://cf-courses-data.s3.us.cloud-object-storage.appdomain.cloud/n01PQ9pSmiRX6520flujwQ/survey-data.csv\"\n",
        "df = pd.read_csv(file_path)\n",
        "\n",
        "# Check missing values before imputation\n",
        "missing_before = df['CodingActivities'].isna().sum()\n",
        "print(f\"Missing values in 'CodingActivities' BEFORE imputation: {missing_before}\")\n",
        "\n",
        "# Forward-fill missing values (replace NaN with the previous non-missing value)\n",
        "df['CodingActivities'] = df['CodingActivities'].ffill()\n",
        "\n",
        "# Check missing values after imputation\n",
        "missing_after = df['CodingActivities'].isna().sum()\n",
        "print(f\"Missing values in 'CodingActivities' AFTER imputation: {missing_after}\")\n",
        "\n",
        "# Display the first few rows to verify changes\n",
        "print(\"\\nFirst few rows after forward-fill:\")\n",
        "print(df.head())"
      ],
      "metadata": {
        "colab": {
          "base_uri": "https://localhost:8080/"
        },
        "id": "xBtf0dC24VkM",
        "outputId": "2f8fb378-1c83-4787-8a8c-24195d242bbe"
      },
      "execution_count": 7,
      "outputs": [
        {
          "output_type": "stream",
          "name": "stdout",
          "text": [
            "Missing values in 'CodingActivities' BEFORE imputation: 10971\n",
            "Missing values in 'CodingActivities' AFTER imputation: 0\n",
            "\n",
            "First few rows after forward-fill:\n",
            "   ResponseId                      MainBranch                 Age  \\\n",
            "0           1  I am a developer by profession  Under 18 years old   \n",
            "1           2  I am a developer by profession     35-44 years old   \n",
            "2           3  I am a developer by profession     45-54 years old   \n",
            "3           4           I am learning to code     18-24 years old   \n",
            "4           5  I am a developer by profession     18-24 years old   \n",
            "\n",
            "            Employment RemoteWork   Check  \\\n",
            "0  Employed, full-time     Remote  Apples   \n",
            "1  Employed, full-time     Remote  Apples   \n",
            "2  Employed, full-time     Remote  Apples   \n",
            "3   Student, full-time        NaN  Apples   \n",
            "4   Student, full-time        NaN  Apples   \n",
            "\n",
            "                                    CodingActivities  \\\n",
            "0                                              Hobby   \n",
            "1  Hobby;Contribute to open-source projects;Other...   \n",
            "2  Hobby;Contribute to open-source projects;Other...   \n",
            "3  Hobby;Contribute to open-source projects;Other...   \n",
            "4  Hobby;Contribute to open-source projects;Other...   \n",
            "\n",
            "                                             EdLevel  \\\n",
            "0                          Primary/elementary school   \n",
            "1       Bachelor’s degree (B.A., B.S., B.Eng., etc.)   \n",
            "2    Master’s degree (M.A., M.S., M.Eng., MBA, etc.)   \n",
            "3  Some college/university study without earning ...   \n",
            "4  Secondary school (e.g. American high school, G...   \n",
            "\n",
            "                                           LearnCode  \\\n",
            "0                             Books / Physical media   \n",
            "1  Books / Physical media;Colleague;On the job tr...   \n",
            "2  Books / Physical media;Colleague;On the job tr...   \n",
            "3  Other online resources (e.g., videos, blogs, f...   \n",
            "4  Other online resources (e.g., videos, blogs, f...   \n",
            "\n",
            "                                     LearnCodeOnline  ... JobSatPoints_6  \\\n",
            "0                                                NaN  ...            NaN   \n",
            "1  Technical documentation;Blogs;Books;Written Tu...  ...            0.0   \n",
            "2  Technical documentation;Blogs;Books;Written Tu...  ...            NaN   \n",
            "3  Stack Overflow;How-to videos;Interactive tutorial  ...            NaN   \n",
            "4  Technical documentation;Blogs;Written Tutorial...  ...            NaN   \n",
            "\n",
            "  JobSatPoints_7 JobSatPoints_8 JobSatPoints_9 JobSatPoints_10  \\\n",
            "0            NaN            NaN            NaN             NaN   \n",
            "1            0.0            0.0            0.0             0.0   \n",
            "2            NaN            NaN            NaN             NaN   \n",
            "3            NaN            NaN            NaN             NaN   \n",
            "4            NaN            NaN            NaN             NaN   \n",
            "\n",
            "  JobSatPoints_11           SurveyLength SurveyEase ConvertedCompYearly JobSat  \n",
            "0             NaN                    NaN        NaN                 NaN    NaN  \n",
            "1             0.0                    NaN        NaN                 NaN    NaN  \n",
            "2             NaN  Appropriate in length       Easy                 NaN    NaN  \n",
            "3             NaN               Too long       Easy                 NaN    NaN  \n",
            "4             NaN              Too short       Easy                 NaN    NaN  \n",
            "\n",
            "[5 rows x 114 columns]\n"
          ]
        }
      ]
    },
    {
      "cell_type": "code",
      "source": [
        "# Section 2: Handling Missing Values"
      ],
      "metadata": {
        "id": "SXfb-0uR4oFP"
      },
      "execution_count": null,
      "outputs": []
    },
    {
      "cell_type": "code",
      "source": [
        "import pandas as pd\n",
        "\n",
        "# Load the dataset\n",
        "file_path = \"https://cf-courses-data.s3.us.cloud-object-storage.appdomain.cloud/n01PQ9pSmiRX6520flujwQ/survey-data.csv\"\n",
        "df = pd.read_csv(file_path)\n",
        "\n",
        "# Check for missing values in 'CodingActivities'\n",
        "missing_count = df['CodingActivities'].isna().sum()\n",
        "missing_percentage = (missing_count / len(df)) * 100\n",
        "\n",
        "# Display results\n",
        "print(f\"Number of missing values in 'CodingActivities': {missing_count}\")\n",
        "print(f\"Percentage of missing values: {missing_percentage:.2f}%\")\n",
        "\n",
        "# Optional: Show rows where 'CodingActivities' is missing\n",
        "if missing_count > 0:\n",
        "    print(\"\\nRows with missing 'CodingActivities':\")\n",
        "    print(df[df['CodingActivities'].isna()].head())  # Display first 5 missing rows\n",
        "else:\n",
        "    print(\"\\nNo missing values found in 'CodingActivities'.\")"
      ],
      "metadata": {
        "colab": {
          "base_uri": "https://localhost:8080/"
        },
        "id": "_eBxzBNG48-i",
        "outputId": "ed8e6571-00e2-4e83-e561-555699feb5d7"
      },
      "execution_count": 8,
      "outputs": [
        {
          "output_type": "stream",
          "name": "stdout",
          "text": [
            "Number of missing values in 'CodingActivities': 10971\n",
            "Percentage of missing values: 16.77%\n",
            "\n",
            "Rows with missing 'CodingActivities':\n",
            "    ResponseId                                         MainBranch  \\\n",
            "3            4                              I am learning to code   \n",
            "4            5                     I am a developer by profession   \n",
            "5            6                        I code primarily as a hobby   \n",
            "7            8                              I am learning to code   \n",
            "13          14  I used to be a developer by profession, but no...   \n",
            "\n",
            "                   Age                                         Employment  \\\n",
            "3      18-24 years old                                 Student, full-time   \n",
            "4      18-24 years old                                 Student, full-time   \n",
            "5   Under 18 years old                                 Student, full-time   \n",
            "7      18-24 years old  Student, full-time;Not employed, but looking f...   \n",
            "13     35-44 years old             Not employed, and not looking for work   \n",
            "\n",
            "   RemoteWork   Check CodingActivities  \\\n",
            "3         NaN  Apples              NaN   \n",
            "4         NaN  Apples              NaN   \n",
            "5         NaN  Apples              NaN   \n",
            "7         NaN  Apples              NaN   \n",
            "13        NaN  Apples              NaN   \n",
            "\n",
            "                                              EdLevel  \\\n",
            "3   Some college/university study without earning ...   \n",
            "4   Secondary school (e.g. American high school, G...   \n",
            "5                           Primary/elementary school   \n",
            "7   Secondary school (e.g. American high school, G...   \n",
            "13       Bachelor’s degree (B.A., B.S., B.Eng., etc.)   \n",
            "\n",
            "                                            LearnCode  \\\n",
            "3   Other online resources (e.g., videos, blogs, f...   \n",
            "4   Other online resources (e.g., videos, blogs, f...   \n",
            "5   School (i.e., University, College, etc);Online...   \n",
            "7   Other online resources (e.g., videos, blogs, f...   \n",
            "13  Colleague;Other online resources (e.g., videos...   \n",
            "\n",
            "                                      LearnCodeOnline  ... JobSatPoints_6  \\\n",
            "3   Stack Overflow;How-to videos;Interactive tutorial  ...            NaN   \n",
            "4   Technical documentation;Blogs;Written Tutorial...  ...            NaN   \n",
            "5                                                 NaN  ...            NaN   \n",
            "7   Technical documentation;Video-based Online Cou...  ...            NaN   \n",
            "13  Technical documentation;Blogs;Stack Overflow;I...  ...            NaN   \n",
            "\n",
            "   JobSatPoints_7 JobSatPoints_8 JobSatPoints_9 JobSatPoints_10  \\\n",
            "3             NaN            NaN            NaN             NaN   \n",
            "4             NaN            NaN            NaN             NaN   \n",
            "5             NaN            NaN            NaN             NaN   \n",
            "7             NaN            NaN            NaN             NaN   \n",
            "13            NaN            NaN            NaN             NaN   \n",
            "\n",
            "   JobSatPoints_11           SurveyLength                  SurveyEase  \\\n",
            "3              NaN               Too long                        Easy   \n",
            "4              NaN              Too short                        Easy   \n",
            "5              NaN  Appropriate in length                        Easy   \n",
            "7              NaN  Appropriate in length                   Difficult   \n",
            "13             NaN               Too long  Neither easy nor difficult   \n",
            "\n",
            "   ConvertedCompYearly JobSat  \n",
            "3                  NaN    NaN  \n",
            "4                  NaN    NaN  \n",
            "5                  NaN    NaN  \n",
            "7                  NaN    NaN  \n",
            "13                 NaN    NaN  \n",
            "\n",
            "[5 rows x 114 columns]\n"
          ]
        }
      ]
    },
    {
      "cell_type": "code",
      "source": [
        "# Task 3: Impute missing values in CodingActivities with forward-fill."
      ],
      "metadata": {
        "id": "6eyYDBB_5GdR"
      },
      "execution_count": null,
      "outputs": []
    },
    {
      "cell_type": "code",
      "source": [
        "import pandas as pd\n",
        "\n",
        "# Load the dataset\n",
        "file_path = \"https://cf-courses-data.s3.us.cloud-object-storage.appdomain.cloud/n01PQ9pSmiRX6520flujwQ/survey-data.csv\"\n",
        "df = pd.read_csv(file_path)\n",
        "\n",
        "# ===== Task 3: Forward-Fill Imputation =====\n",
        "print(\"\\n=== Before Imputation ===\")\n",
        "# Check initial missing values\n",
        "missing_before = df['CodingActivities'].isna().sum()\n",
        "print(f\"Missing values in 'CodingActivities': {missing_before} ({missing_before/len(df):.1%})\")\n",
        "\n",
        "# Perform forward-fill\n",
        "df['CodingActivities'] = df['CodingActivities'].ffill()\n",
        "\n",
        "print(\"\\n=== After Forward-Fill Imputation ===\")\n",
        "# Verify results\n",
        "missing_after = df['CodingActivities'].isna().sum()\n",
        "print(f\"Remaining missing values: {missing_after}\")\n",
        "\n",
        "# Edge case: If first value was missing, it remains NaN\n",
        "if missing_after > 0:\n",
        "    print(\"\\nNote: Some missing values may remain at the start of the dataset (no previous value to fill from)\")\n",
        "    print(\"First few rows with missing values (if any):\")\n",
        "    print(df[df['CodingActivities'].isna()].head())\n",
        "\n",
        "# Show sample of imputed data\n",
        "print(\"\\n=== Sample of Imputed Data ===\")\n",
        "print(df.head(10))  # Display first 10 rows to see changes"
      ],
      "metadata": {
        "colab": {
          "base_uri": "https://localhost:8080/"
        },
        "id": "xukJr2w_5asV",
        "outputId": "93fe6f1a-9ee1-47b5-dfc6-aa380bebf03d"
      },
      "execution_count": 9,
      "outputs": [
        {
          "output_type": "stream",
          "name": "stdout",
          "text": [
            "\n",
            "=== Before Imputation ===\n",
            "Missing values in 'CodingActivities': 10971 (16.8%)\n",
            "\n",
            "=== After Forward-Fill Imputation ===\n",
            "Remaining missing values: 0\n",
            "\n",
            "=== Sample of Imputed Data ===\n",
            "   ResponseId                                         MainBranch  \\\n",
            "0           1                     I am a developer by profession   \n",
            "1           2                     I am a developer by profession   \n",
            "2           3                     I am a developer by profession   \n",
            "3           4                              I am learning to code   \n",
            "4           5                     I am a developer by profession   \n",
            "5           6                        I code primarily as a hobby   \n",
            "6           7  I am not primarily a developer, but I write co...   \n",
            "7           8                              I am learning to code   \n",
            "8           9                        I code primarily as a hobby   \n",
            "9          10                     I am a developer by profession   \n",
            "\n",
            "                  Age                                         Employment  \\\n",
            "0  Under 18 years old                                Employed, full-time   \n",
            "1     35-44 years old                                Employed, full-time   \n",
            "2     45-54 years old                                Employed, full-time   \n",
            "3     18-24 years old                                 Student, full-time   \n",
            "4     18-24 years old                                 Student, full-time   \n",
            "5  Under 18 years old                                 Student, full-time   \n",
            "6     35-44 years old                                Employed, full-time   \n",
            "7     18-24 years old  Student, full-time;Not employed, but looking f...   \n",
            "8     45-54 years old                                Employed, full-time   \n",
            "9     35-44 years old  Independent contractor, freelancer, or self-em...   \n",
            "\n",
            "  RemoteWork   Check                                   CodingActivities  \\\n",
            "0     Remote  Apples                                              Hobby   \n",
            "1     Remote  Apples  Hobby;Contribute to open-source projects;Other...   \n",
            "2     Remote  Apples  Hobby;Contribute to open-source projects;Other...   \n",
            "3        NaN  Apples  Hobby;Contribute to open-source projects;Other...   \n",
            "4        NaN  Apples  Hobby;Contribute to open-source projects;Other...   \n",
            "5        NaN  Apples  Hobby;Contribute to open-source projects;Other...   \n",
            "6     Remote  Apples                       I don’t code outside of work   \n",
            "7        NaN  Apples                       I don’t code outside of work   \n",
            "8  In-person  Apples                                              Hobby   \n",
            "9     Remote  Apples                           Bootstrapping a business   \n",
            "\n",
            "                                             EdLevel  \\\n",
            "0                          Primary/elementary school   \n",
            "1       Bachelor’s degree (B.A., B.S., B.Eng., etc.)   \n",
            "2    Master’s degree (M.A., M.S., M.Eng., MBA, etc.)   \n",
            "3  Some college/university study without earning ...   \n",
            "4  Secondary school (e.g. American high school, G...   \n",
            "5                          Primary/elementary school   \n",
            "6     Professional degree (JD, MD, Ph.D, Ed.D, etc.)   \n",
            "7  Secondary school (e.g. American high school, G...   \n",
            "8     Professional degree (JD, MD, Ph.D, Ed.D, etc.)   \n",
            "9    Master’s degree (M.A., M.S., M.Eng., MBA, etc.)   \n",
            "\n",
            "                                           LearnCode  \\\n",
            "0                             Books / Physical media   \n",
            "1  Books / Physical media;Colleague;On the job tr...   \n",
            "2  Books / Physical media;Colleague;On the job tr...   \n",
            "3  Other online resources (e.g., videos, blogs, f...   \n",
            "4  Other online resources (e.g., videos, blogs, f...   \n",
            "5  School (i.e., University, College, etc);Online...   \n",
            "6  Other online resources (e.g., videos, blogs, f...   \n",
            "7  Other online resources (e.g., videos, blogs, f...   \n",
            "8  Books / Physical media;Other online resources ...   \n",
            "9  On the job training;Other online resources (e....   \n",
            "\n",
            "                                     LearnCodeOnline  ... JobSatPoints_6  \\\n",
            "0                                                NaN  ...            NaN   \n",
            "1  Technical documentation;Blogs;Books;Written Tu...  ...            0.0   \n",
            "2  Technical documentation;Blogs;Books;Written Tu...  ...            NaN   \n",
            "3  Stack Overflow;How-to videos;Interactive tutorial  ...            NaN   \n",
            "4  Technical documentation;Blogs;Written Tutorial...  ...            NaN   \n",
            "5                                                NaN  ...            NaN   \n",
            "6  Technical documentation;Stack Overflow;Written...  ...            NaN   \n",
            "7  Technical documentation;Video-based Online Cou...  ...            NaN   \n",
            "8        Stack Overflow;Written-based Online Courses  ...            NaN   \n",
            "9  Technical documentation;Blogs;Written Tutorial...  ...            NaN   \n",
            "\n",
            "  JobSatPoints_7 JobSatPoints_8 JobSatPoints_9 JobSatPoints_10  \\\n",
            "0            NaN            NaN            NaN             NaN   \n",
            "1            0.0            0.0            0.0             0.0   \n",
            "2            NaN            NaN            NaN             NaN   \n",
            "3            NaN            NaN            NaN             NaN   \n",
            "4            NaN            NaN            NaN             NaN   \n",
            "5            NaN            NaN            NaN             NaN   \n",
            "6            NaN            NaN            NaN             NaN   \n",
            "7            NaN            NaN            NaN             NaN   \n",
            "8            NaN            NaN            NaN             NaN   \n",
            "9            NaN            NaN            NaN             NaN   \n",
            "\n",
            "  JobSatPoints_11           SurveyLength                  SurveyEase  \\\n",
            "0             NaN                    NaN                         NaN   \n",
            "1             0.0                    NaN                         NaN   \n",
            "2             NaN  Appropriate in length                        Easy   \n",
            "3             NaN               Too long                        Easy   \n",
            "4             NaN              Too short                        Easy   \n",
            "5             NaN  Appropriate in length                        Easy   \n",
            "6             NaN               Too long  Neither easy nor difficult   \n",
            "7             NaN  Appropriate in length                   Difficult   \n",
            "8             NaN  Appropriate in length  Neither easy nor difficult   \n",
            "9             NaN               Too long                        Easy   \n",
            "\n",
            "  ConvertedCompYearly JobSat  \n",
            "0                 NaN    NaN  \n",
            "1                 NaN    NaN  \n",
            "2                 NaN    NaN  \n",
            "3                 NaN    NaN  \n",
            "4                 NaN    NaN  \n",
            "5                 NaN    NaN  \n",
            "6                 NaN    NaN  \n",
            "7                 NaN    NaN  \n",
            "8                 NaN    NaN  \n",
            "9                 NaN    NaN  \n",
            "\n",
            "[10 rows x 114 columns]\n"
          ]
        }
      ]
    },
    {
      "cell_type": "code",
      "source": [
        "# Section 3: Normalizing Compensation Data"
      ],
      "metadata": {
        "id": "c-flLiQi6Sy_"
      },
      "execution_count": null,
      "outputs": []
    },
    {
      "cell_type": "code",
      "source": [
        "# Task 4: Identify compensation-related columns, such as ConvertedCompYearly."
      ],
      "metadata": {
        "id": "h48rzxE_6pVs"
      },
      "execution_count": null,
      "outputs": []
    },
    {
      "cell_type": "code",
      "source": [
        "import pandas as pd\n",
        "\n",
        "# Load the dataset\n",
        "file_path = \"https://cf-courses-data.s3.us.cloud-object-storage.appdomain.cloud/n01PQ9pSmiRX6520flujwQ/survey-data.csv\"\n",
        "df = pd.read_csv(file_path)\n",
        "\n",
        "# Strategy 1: Find columns with common compensation-related keywords\n",
        "comp_keywords = ['comp', 'salary', 'income', 'earn', 'pay', 'wage']\n",
        "comp_columns = [col for col in df.columns\n",
        "               if any(keyword in col.lower() for keyword in comp_keywords)]\n",
        "\n",
        "# Strategy 2: Manual inspection of likely columns (add more if needed)\n",
        "likely_comp_columns = ['ConvertedCompYearly', 'CompTotal', 'Salary', 'AnnualSalary']\n",
        "\n",
        "# Combine both approaches\n",
        "all_comp_columns = list(set(comp_columns + likely_comp_columns))\n",
        "existing_comp_columns = [col for col in all_comp_columns if col in df.columns]\n",
        "\n",
        "# Display results\n",
        "print(\"Compensation-related columns found:\")\n",
        "for col in existing_comp_columns:\n",
        "    print(f\"- {col}\")\n",
        "    print(f\"  Missing values: {df[col].isna().sum()}/{len(df)}\")\n",
        "    print(f\"  Sample values: {df[col].dropna().unique()[:5]}\\n\")\n",
        "\n",
        "# If no columns found\n",
        "if not existing_comp_columns:\n",
        "    print(\"No compensation columns found. Here are all columns for inspection:\")\n",
        "    print(df.columns.tolist())"
      ],
      "metadata": {
        "colab": {
          "base_uri": "https://localhost:8080/"
        },
        "id": "5aJ0ZWmR66Kv",
        "outputId": "765944c9-d0fe-4393-a1fe-03df76c62d79"
      },
      "execution_count": 10,
      "outputs": [
        {
          "output_type": "stream",
          "name": "stdout",
          "text": [
            "Compensation-related columns found:\n",
            "- AIComplex\n",
            "  Missing values: 28416/65437\n",
            "  Sample values: ['Bad at handling complex tasks'\n",
            " 'Good, but not great at handling complex tasks'\n",
            " 'Neither good or bad at handling complex tasks'\n",
            " 'Very well at handling complex tasks'\n",
            " 'Very poor at handling complex tasks']\n",
            "\n",
            "- LearnCodeOnline\n",
            "  Missing values: 16200/65437\n",
            "  Sample values: ['Technical documentation;Blogs;Books;Written Tutorials;Stack Overflow'\n",
            " 'Technical documentation;Blogs;Books;Written Tutorials;Stack Overflow;Coding sessions (live or recorded);Social Media'\n",
            " 'Stack Overflow;How-to videos;Interactive tutorial'\n",
            " 'Technical documentation;Blogs;Written Tutorials;Stack Overflow;Social Media;Video-based Online Courses'\n",
            " 'Technical documentation;Stack Overflow;Written-based Online Courses']\n",
            "\n",
            "- ConvertedCompYearly\n",
            "  Missing values: 42002/65437\n",
            "  Sample values: [  7322.  30074.  91295.  53703. 110000.]\n",
            "\n",
            "- CompTotal\n",
            "  Missing values: 31697/65437\n",
            "  Sample values: [2040000.   28000.   85000.   50000.  110000.]\n",
            "\n",
            "- LearnCode\n",
            "  Missing values: 4949/65437\n",
            "  Sample values: ['Books / Physical media'\n",
            " 'Books / Physical media;Colleague;On the job training;Other online resources (e.g., videos, blogs, forum, online community)'\n",
            " 'Books / Physical media;Colleague;On the job training;Other online resources (e.g., videos, blogs, forum, online community);School (i.e., University, College, etc)'\n",
            " 'Other online resources (e.g., videos, blogs, forum, online community);School (i.e., University, College, etc);Online Courses or Certification'\n",
            " 'Other online resources (e.g., videos, blogs, forum, online community)']\n",
            "\n"
          ]
        }
      ]
    },
    {
      "cell_type": "code",
      "source": [
        "# Task 5: Normalize ConvertedCompYearly using Min-Max Scaling."
      ],
      "metadata": {
        "id": "lDCIQaxv7Cl1"
      },
      "execution_count": null,
      "outputs": []
    },
    {
      "cell_type": "code",
      "source": [
        "import pandas as pd\n",
        "from sklearn.preprocessing import MinMaxScaler\n",
        "\n",
        "# Load the dataset\n",
        "file_path = \"https://cf-courses-data.s3.us.cloud-object-storage.appdomain.cloud/n01PQ9pSmiRX6520flujwQ/survey-data.csv\"\n",
        "df = pd.read_csv(file_path)\n",
        "\n",
        "# Check original statistics\n",
        "original_min = df['ConvertedCompYearly'].min()\n",
        "original_max = df['ConvertedCompYearly'].max()\n",
        "print(f\"Original Min: {original_min}, Original Max: {original_max}\")\n",
        "\n",
        "# Drop missing values (since scaling doesn't handle NaN)\n",
        "comp_data = df['ConvertedCompYearly'].dropna().values.reshape(-1, 1)\n",
        "\n",
        "# Initialize MinMaxScaler\n",
        "scaler = MinMaxScaler()\n",
        "\n",
        "# Fit and transform the data\n",
        "normalized_comp = scaler.fit_transform(comp_data)\n",
        "\n",
        "# Create a new column for normalized values\n",
        "df['ConvertedCompYearly_Normalized'] = None  # Initialize column\n",
        "df.loc[df['ConvertedCompYearly'].notna(), 'ConvertedCompYearly_Normalized'] = normalized_comp.flatten()\n",
        "\n",
        "# Verify results\n",
        "print(\"\\n=== Normalization Results ===\")\n",
        "print(f\"New Min: {df['ConvertedCompYearly_Normalized'].min()}\")\n",
        "print(f\"New Max: {df['ConvertedCompYearly_Normalized'].max()}\")\n",
        "print(\"\\nFirst 5 normalized values:\")\n",
        "print(df[['ConvertedCompYearly', 'ConvertedCompYearly_Normalized']].head())"
      ],
      "metadata": {
        "colab": {
          "base_uri": "https://localhost:8080/"
        },
        "id": "Qh9dc1vV7Qtx",
        "outputId": "c543ea59-3984-4519-94d5-5d98e6c9aabf"
      },
      "execution_count": 11,
      "outputs": [
        {
          "output_type": "stream",
          "name": "stdout",
          "text": [
            "Original Min: 1.0, Original Max: 16256603.0\n",
            "\n",
            "=== Normalization Results ===\n",
            "New Min: 0.0\n",
            "New Max: 1.0\n",
            "\n",
            "First 5 normalized values:\n",
            "   ConvertedCompYearly ConvertedCompYearly_Normalized\n",
            "0                  NaN                           None\n",
            "1                  NaN                           None\n",
            "2                  NaN                           None\n",
            "3                  NaN                           None\n",
            "4                  NaN                           None\n"
          ]
        }
      ]
    },
    {
      "cell_type": "code",
      "source": [
        "# Task 6: Apply Z-score Normalization to ConvertedCompYearly."
      ],
      "metadata": {
        "id": "A4eK1mC97bZK"
      },
      "execution_count": null,
      "outputs": []
    },
    {
      "cell_type": "code",
      "source": [
        "import pandas as pd\n",
        "from sklearn.preprocessing import StandardScaler\n",
        "\n",
        "# Load the dataset\n",
        "file_path = \"https://cf-courses-data.s3.us.cloud-object-storage.appdomain.cloud/n01PQ9pSmiRX6520flujwQ/survey-data.csv\"\n",
        "df = pd.read_csv(file_path)\n",
        "\n",
        "# Check original statistics\n",
        "original_mean = df['ConvertedCompYearly'].mean()\n",
        "original_std = df['ConvertedCompYearly'].std()\n",
        "print(f\"Original Mean: {original_mean:.2f}, Original Std Dev: {original_std:.2f}\")\n",
        "\n",
        "# Drop missing values (since scaling doesn't handle NaN)\n",
        "comp_data = df['ConvertedCompYearly'].dropna().values.reshape(-1, 1)\n",
        "\n",
        "# Initialize StandardScaler\n",
        "scaler = StandardScaler()\n",
        "\n",
        "# Fit and transform the data\n",
        "zscore_comp = scaler.fit_transform(comp_data)\n",
        "\n",
        "# Create a new column for standardized values\n",
        "df['ConvertedCompYearly_Zscore'] = None  # Initialize column\n",
        "df.loc[df['ConvertedCompYearly'].notna(), 'ConvertedCompYearly_Zscore'] = zscore_comp.flatten()\n",
        "\n",
        "# Verify results\n",
        "print(\"\\n=== Standardization Results ===\")\n",
        "print(f\"New Mean: {df['ConvertedCompYearly_Zscore'].mean():.2f} (should be ~0)\")\n",
        "print(f\"New Std Dev: {df['ConvertedCompYearly_Zscore'].std():.2f} (should be ~1)\")\n",
        "print(\"\\nFirst 5 standardized values:\")\n",
        "print(df[['ConvertedCompYearly', 'ConvertedCompYearly_Zscore']].head())\n",
        "\n",
        "# Optional: Visualize distribution before/after\n",
        "import matplotlib.pyplot as plt\n",
        "plt.figure(figsize=(12, 5))\n",
        "\n",
        "plt.subplot(1, 2, 1)\n",
        "df['ConvertedCompYearly'].hist(bins=30)\n",
        "plt.title('Original Distribution')\n",
        "\n",
        "plt.subplot(1, 2, 2)\n",
        "df['ConvertedCompYearly_Zscore'].hist(bins=30)\n",
        "plt.title('Z-score Normalized Distribution')\n",
        "\n",
        "plt.tight_layout()\n",
        "plt.show()"
      ],
      "metadata": {
        "colab": {
          "base_uri": "https://localhost:8080/",
          "height": 739
        },
        "id": "lD4CQz5-7ul8",
        "outputId": "4f21b064-e2b2-4f79-bbd0-f1a09529731b"
      },
      "execution_count": 12,
      "outputs": [
        {
          "output_type": "stream",
          "name": "stdout",
          "text": [
            "Original Mean: 86155.29, Original Std Dev: 186756.97\n",
            "\n",
            "=== Standardization Results ===\n",
            "New Mean: 0.00 (should be ~0)\n",
            "New Std Dev: 1.00 (should be ~1)\n",
            "\n",
            "First 5 standardized values:\n",
            "   ConvertedCompYearly ConvertedCompYearly_Zscore\n",
            "0                  NaN                       None\n",
            "1                  NaN                       None\n",
            "2                  NaN                       None\n",
            "3                  NaN                       None\n",
            "4                  NaN                       None\n"
          ]
        },
        {
          "output_type": "display_data",
          "data": {
            "text/plain": [
              "<Figure size 1200x500 with 2 Axes>"
            ],
            "image/png": "[encoded data removed]"
          },
          "metadata": {}
        }
      ]
    },
    {
      "cell_type": "code",
      "source": [
        "# Section 4: Visualization of Normalized Data"
      ],
      "metadata": {
        "id": "_eRHFU5U7-OC"
      },
      "execution_count": null,
      "outputs": []
    },
    {
      "cell_type": "code",
      "source": [
        "import pandas as pd\n",
        "import matplotlib.pyplot as plt\n",
        "import seaborn as sns\n",
        "from sklearn.preprocessing import MinMaxScaler, StandardScaler\n",
        "\n",
        "# Load the dataset\n",
        "file_path = \"https://cf-courses-data.s3.us.cloud-object-storage.appdomain.cloud/n01PQ9pSmiRX6520flujwQ/survey-data.csv\"\n",
        "df = pd.read_csv(file_path)\n",
        "\n",
        "# Create copies of the column for transformation\n",
        "comp_data = df['ConvertedCompYearly'].copy()\n",
        "\n",
        "# ===== Create Normalized Columns =====\n",
        "# Initialize scalers\n",
        "scaler_minmax = MinMaxScaler()\n",
        "scaler_z = StandardScaler()\n",
        "\n",
        "# Create new columns filled with NaN initially\n",
        "df['ConvertedCompYearly_Normalized'] = pd.NA\n",
        "df['ConvertedCompYearly_Zscore'] = pd.NA\n",
        "\n",
        "# Fill only non-NA values with transformed data\n",
        "valid_mask = comp_data.notna()\n",
        "df.loc[valid_mask, 'ConvertedCompYearly_Normalized'] = scaler_minmax.fit_transform(\n",
        "    comp_data[valid_mask].values.reshape(-1, 1)\n",
        ")\n",
        "df.loc[valid_mask, 'ConvertedCompYearly_Zscore'] = scaler_z.fit_transform(\n",
        "    comp_data[valid_mask].values.reshape(-1, 1)\n",
        ")\n",
        "\n",
        "# ===== Visualization =====\n",
        "plt.figure(figsize=(18, 6))\n",
        "plt.suptitle('Comparison of Compensation Distributions', y=1.02, fontsize=14)\n",
        "\n",
        "# Plot configurations\n",
        "plots = [\n",
        "    ('ConvertedCompYearly', 'Original Data', 'skyblue'),\n",
        "    ('ConvertedCompYearly_Normalized', 'MinMax Normalized (0-1)', 'salmon'),\n",
        "    ('ConvertedCompYearly_Zscore', 'Z-score Standardized (μ=0, σ=1)', 'lightgreen')\n",
        "]\n",
        "\n",
        "for i, (col, title, color) in enumerate(plots, 1):\n",
        "    plt.subplot(1, 3, i)\n",
        "    sns.histplot(df[col].dropna(), kde=True, bins=30, color=color)\n",
        "    plt.title(title)\n",
        "    plt.xlabel('Value' if i > 1 else 'Yearly Compensation ($)')\n",
        "    if i == 1:\n",
        "        plt.ylabel('Frequency')\n",
        "    else:\n",
        "        plt.ylabel('')\n",
        "\n",
        "plt.tight_layout()\n",
        "plt.show()\n",
        "\n",
        "# Statistics summary\n",
        "stats = pd.DataFrame({\n",
        "    'Original': df['ConvertedCompYearly'].describe(),\n",
        "    'MinMax Normalized': df['ConvertedCompYearly_Normalized'].describe(),\n",
        "    'Z-score Standardized': df['ConvertedCompYearly_Zscore'].describe()\n",
        "})\n",
        "print(\"\\nDescriptive Statistics:\")\n",
        "print(stats[['Original', 'MinMax Normalized', 'Z-score Standardized']].round(2))\n"
      ],
      "metadata": {
        "colab": {
          "base_uri": "https://localhost:8080/",
          "height": 720
        },
        "id": "zoGwvH038V2A",
        "outputId": "903f208c-14f1-4003-c95f-31a23f436fbb"
      },
      "execution_count": 15,
      "outputs": [
        {
          "output_type": "display_data",
          "data": {
            "text/plain": [
              "<Figure size 1800x600 with 3 Axes>"
            ],
            "image/png": "[encoded data removed]"
          },
          "metadata": {}
        },
        {
          "output_type": "stream",
          "name": "stdout",
          "text": [
            "\n",
            "Descriptive Statistics:\n",
            "           Original  MinMax Normalized  Z-score Standardized\n",
            "25%        32712.00                NaN                   NaN\n",
            "50%        65000.00                NaN                   NaN\n",
            "75%       107971.50                NaN                   NaN\n",
            "count      23435.00            23435.0              23435.00\n",
            "freq            NaN              321.0                321.00\n",
            "max     16256603.00                NaN                   NaN\n",
            "mean       86155.29                NaN                   NaN\n",
            "min            1.00                NaN                   NaN\n",
            "std       186756.97                NaN                   NaN\n",
            "top             NaN                0.0                 -0.12\n",
            "unique          NaN             6113.0               6113.00\n"
          ]
        }
      ]
    }
  ]
}